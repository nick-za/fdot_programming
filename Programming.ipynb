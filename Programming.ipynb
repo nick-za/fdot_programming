{
 "cells": [
  {
   "cell_type": "markdown",
   "id": "9777151c-4587-4d8f-b81c-30840a2b3a13",
   "metadata": {},
   "source": [
    "Notebook for determing programming status and amount overlap of pcs style data"
   ]
  },
  {
   "cell_type": "markdown",
   "id": "f050e811-d19d-4816-80cf-d7696ff72ba2",
   "metadata": {},
   "source": [
    "Importing the necessary libraries"
   ]
  },
  {
   "cell_type": "code",
   "execution_count": 1,
   "id": "ad43978c-1880-47c0-a372-c5484bacb231",
   "metadata": {},
   "outputs": [],
   "source": [
    "import pandas as pd\n",
    "import numpy as np\n",
    "from pathlib import Path\n",
    "from sqlalchemy import create_engine\n",
    "from sqlalchemy.engine import URL\n",
    "from pandasql import sqldf"
   ]
  },
  {
   "cell_type": "code",
   "execution_count": 2,
   "id": "a69a8934-2d35-463b-9355-eda1a8990c4a",
   "metadata": {},
   "outputs": [],
   "source": [
    "connection_Pavement=(\"Driver={SQL Server};\"\n",
    "                      \"Server=DOTSSMSQLPROD;\"                \n",
    "                      \"Trusted_Connection=yes;\")\n",
    "pave_url=URL.create('mssql+pyodbc',query={'odbc_connect':connection_Pavement})\n",
    "pave_eng=create_engine(pave_url)"
   ]
  },
  {
   "cell_type": "code",
   "execution_count": 6,
   "id": "81049fb0-55a0-47e9-9864-00e682811019",
   "metadata": {},
   "outputs": [],
   "source": [
    "def find_uncovered_parts(row):\n",
    "    #need to add side logic\n",
    "    rid=row[id1]\n",
    "    begin_base=row[begin1]\n",
    "    end_base=row[end1]\n",
    "    matches=wp_data[wp_data[id2]==rid]\n",
    "    wpitems=list()\n",
    "    fy=list()\n",
    "    uncovered_parts=[(begin_base,end_base)]\n",
    "    for _,match_row in matches.iterrows():\n",
    "        begin_second=match_row[begin2]\n",
    "        end_second=match_row[end2]\n",
    "        wpitmseg=match_row['WPITEM']+match_row['WPITMSEG']\n",
    "        fiscal=match_row['FISCALYR']\n",
    "        new_uncovered_parts=[]\n",
    "        \n",
    "        for part_begin,part_end in uncovered_parts:\n",
    "            #check if parts overlap\n",
    "            if part_end < begin_second or part_begin > end_second:\n",
    "                new_uncovered_parts.append((part_begin, part_end))\n",
    "            else:\n",
    "                #split the part into uncovered sections\n",
    "                if part_begin < begin_second:\n",
    "                    new_uncovered_parts.append((part_begin, begin_second))\n",
    "                    # wpitems.append(wpitmseg)\n",
    "                if part_end > end_second:\n",
    "                    new_uncovered_parts.append((end_second, part_end))\n",
    "                    # wpitems.append(wpitmseg)\n",
    "        if uncovered_parts!=new_uncovered_parts:\n",
    "            wpitems.append(wpitmseg)\n",
    "            fy.append(fiscal)\n",
    "        uncovered_parts=new_uncovered_parts\n",
    "    uncovered_len=sum(end-begin for begin,end in uncovered_parts)\n",
    "    if len(wpitems)>0:\n",
    "        wpitems=set(wpitems)\n",
    "    if len(fy)>0:\n",
    "        fy_return=min(fy)\n",
    "    else:\n",
    "        fy_return='None'\n",
    "    return uncovered_parts,uncovered_len,wpitems,fy_return"
   ]
  },
  {
   "cell_type": "code",
   "execution_count": 7,
   "id": "f0727ac8-66e9-4bf4-bcfc-041660362768",
   "metadata": {},
   "outputs": [],
   "source": [
    "def assoc(bmp,emp,bsec,esec):\n",
    "    if esec>=emp and bsec<=bmp:\n",
    "        associated=1\n",
    "    elif esec>=emp:\n",
    "        associated=(emp-bsec)/(emp-bmp)\n",
    "    elif bsec<=bmp:\n",
    "        associated=(esec-bmp)/(emp-bmp)\n",
    "    else:\n",
    "        associated=(esec-bsec)/(emp-bmp)\n",
    "    if associated>1:\n",
    "        associated=1\n",
    "    return associated"
   ]
  },
  {
   "cell_type": "code",
   "execution_count": 8,
   "id": "77c2311f-1d24-479d-a5ad-9be34063b8e4",
   "metadata": {},
   "outputs": [],
   "source": [
    "def find_programming(pcs_data,wp_data,outpath):\n",
    "    pcs_data[['uncovered','length_uncovered','list','first_prog']]=pcs_data.apply(find_uncovered_parts,axis=1,result_type='expand')\n",
    "    pcs_data['percent_uncovered']=pcs_data['length_uncovered']/(pcs_data[end1]-pcs_data[begin1])\n",
    "    pcs_data.to_excel(Path(outpath,'progamming_added_2.xlsx'),index=False)\n",
    "    return pcs_data\n",
    "        \n",
    "        "
   ]
  },
  {
   "cell_type": "code",
   "execution_count": 9,
   "id": "e1ab53a6-0062-45dd-ab06-358f5ae0fa8b",
   "metadata": {},
   "outputs": [],
   "source": [
    "def sql_read(type,eng):\n",
    "    if type=='pcs':\n",
    "        data=pd.read_sql('Select * from pavement.dbo.master_pcs_net where surveyyear='+str(yr),eng)\n",
    "    elif type=='wp':\n",
    "        data=pd.read_sql('Select * from pavemgmt.dbo.wp_fut_ind',eng)\n",
    "    return data"
   ]
  },
  {
   "cell_type": "markdown",
   "id": "152eaa6c-f4dc-42ef-b3e1-82f68446a121",
   "metadata": {},
   "source": [
    "Identify the names for ID(RDWYID), Begin(BMP), and End(EMP) for pcs data and wp or secondary data."
   ]
  },
  {
   "cell_type": "code",
   "execution_count": 10,
   "id": "307f1354-96b4-4882-a395-28892a4e691b",
   "metadata": {},
   "outputs": [],
   "source": [
    "id1='RDWYID'\n",
    "begin1='BMP'\n",
    "end1='EMP'\n",
    "id2='RDWYID'\n",
    "begin2='BEGSECPT'\n",
    "end2='ENDSECPT'"
   ]
  },
  {
   "cell_type": "code",
   "execution_count": 11,
   "id": "ae34ed86-220a-44f0-acc9-5a5d1fd2a95e",
   "metadata": {},
   "outputs": [],
   "source": [
    "id1=str.upper(id1)\n",
    "begin1=str.upper(begin1)\n",
    "end1=str.upper(end1)\n",
    "id2=str.upper(id2)\n",
    "begin2=str.upper(begin2)\n",
    "end2=str.upper(end2)"
   ]
  },
  {
   "cell_type": "markdown",
   "id": "4e13d270-c95d-4e73-a937-5e300bf59709",
   "metadata": {},
   "source": [
    "If pcs_data is in an excel file enter the path below, otherwise it will default to the last completed surveyyear in sql"
   ]
  },
  {
   "cell_type": "code",
   "execution_count": 12,
   "id": "c9732004-abaa-40a8-a4f6-5f2a92b79eb3",
   "metadata": {},
   "outputs": [],
   "source": [
    "pcs_directory=r'Q:\\Road Survey Data\\PCS Network\\2024-2025\\Distresses\\Patching\\\\' \n",
    "pcs_file='PtSections.xlsx'\n",
    "pcs_path=Path(pcs_directory,pcs_file)"
   ]
  },
  {
   "cell_type": "code",
   "execution_count": 13,
   "id": "6beefc68-da71-422b-b519-ca8960ef7601",
   "metadata": {},
   "outputs": [],
   "source": [
    "try:\n",
    "    pcs_data=pd.read_excel(pcs_path)\n",
    "except:\n",
    "    pcs_data=sql_read('pcs',pave_eng)\n",
    "wp_data=sql_read('wp',pave_eng)\n",
    "\n"
   ]
  },
  {
   "cell_type": "code",
   "execution_count": null,
   "id": "0b8c8ad8-cd2f-40a9-8a2a-9e0b14005db3",
   "metadata": {},
   "outputs": [],
   "source": [
    "pcs_data.columns=pcs_data.columns.map(str.upper)\n",
    "wp_data.columns=wp_data.columns.map(str.upper)\n",
    "wp_data[id2]=wp_data[id2].astype(str)\n",
    "pcs_data[id1]=pcs_data[id1].astype(str)\n"
   ]
  },
  {
   "cell_type": "code",
   "execution_count": null,
   "id": "d423af77-8f46-4941-ba8f-6ed83f9f3f69",
   "metadata": {},
   "outputs": [],
   "source": [
    "wp_data=wp_data[wp_data['WPSTATUS']!='CA']"
   ]
  },
  {
   "cell_type": "code",
   "execution_count": null,
   "id": "2653317c-37a3-4abc-86fe-88d6b2174608",
   "metadata": {},
   "outputs": [],
   "source": [
    "final_data=find_programming(pcs_data,wp_data,pcs_directory)\n"
   ]
  },
  {
   "cell_type": "code",
   "execution_count": null,
   "id": "090a8b08-1c44-4219-9ffe-cd534a0883d9",
   "metadata": {},
   "outputs": [],
   "source": []
  }
 ],
 "metadata": {
  "kernelspec": {
   "display_name": "Python 3 (ipykernel)",
   "language": "python",
   "name": "python3"
  },
  "language_info": {
   "codemirror_mode": {
    "name": "ipython",
    "version": 3
   },
   "file_extension": ".py",
   "mimetype": "text/x-python",
   "name": "python",
   "nbconvert_exporter": "python",
   "pygments_lexer": "ipython3",
   "version": "3.9.18"
  }
 },
 "nbformat": 4,
 "nbformat_minor": 5
}
